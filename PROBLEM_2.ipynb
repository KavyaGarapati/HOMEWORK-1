{
  "nbformat": 4,
  "nbformat_minor": 0,
  "metadata": {
    "colab": {
      "name": "PROBLEM 2.ipynb",
      "version": "0.3.2",
      "provenance": [],
      "collapsed_sections": [],
      "include_colab_link": true
    },
    "kernelspec": {
      "name": "python3",
      "display_name": "Python 3"
    }
  },
  "cells": [
    {
      "cell_type": "markdown",
      "metadata": {
        "id": "view-in-github",
        "colab_type": "text"
      },
      "source": [
        "<a href=\"https://colab.research.google.com/github/KavyaGarapati/HOMEWORK-1/blob/master/PROBLEM_2.ipynb\" target=\"_parent\"><img src=\"https://colab.research.google.com/assets/colab-badge.svg\" alt=\"Open In Colab\"/></a>"
      ]
    },
    {
      "metadata": {
        "id": "lKdzbTBozvPw",
        "colab_type": "code",
        "colab": {}
      },
      "cell_type": "code",
      "source": [
        "import keras\n",
        "import numpy as np\n",
        "from keras.models import Sequential\n",
        "from keras.datasets import mnist\n",
        "from keras.utils import np_utils\n",
        "import tensorflow as tf\n",
        "from sklearn.model_selection import train_test_split\n",
        "import math\n"
      ],
      "execution_count": 0,
      "outputs": []
    },
    {
      "metadata": {
        "id": "0JaCeVgN0Aao",
        "colab_type": "code",
        "colab": {}
      },
      "cell_type": "code",
      "source": [
        "(x_train, y_train), (x_test, y_test) = mnist.load_data()"
      ],
      "execution_count": 0,
      "outputs": []
    },
    {
      "metadata": {
        "id": "KVYecNq70Gbc",
        "colab_type": "code",
        "colab": {}
      },
      "cell_type": "code",
      "source": [
        "\n",
        "x_train = x_train.reshape(x_train.shape[0], x_train.shape[1] * x_train.shape[2])\n",
        "x_test = x_test.reshape(x_test.shape[0], x_test.shape[1] * x_test.shape[2])\n",
        "x_train = x_train.astype('float32')\n",
        "x_test = x_test.astype('float32')\n",
        "x_train /= 255\n",
        "x_test /= 255"
      ],
      "execution_count": 0,
      "outputs": []
    },
    {
      "metadata": {
        "id": "MCmsfZLj0vAL",
        "colab_type": "code",
        "colab": {}
      },
      "cell_type": "code",
      "source": [
        "y_actual_testdata = y_test\n",
        "y_train = np_utils.to_categorical(y_train, 10)\n",
        "y_test = np_utils.to_categorical(y_test, 10)"
      ],
      "execution_count": 0,
      "outputs": []
    },
    {
      "metadata": {
        "id": "_tHpd2mMh7H-",
        "colab_type": "code",
        "colab": {}
      },
      "cell_type": "code",
      "source": [
        "learning_rate = 0.01\n",
        "batch_size = 4\n",
        "experiments = 4\n",
        "nb_classes = 10"
      ],
      "execution_count": 0,
      "outputs": []
    },
    {
      "metadata": {
        "id": "N0mz58iU05W5",
        "colab_type": "code",
        "colab": {}
      },
      "cell_type": "code",
      "source": [
        "def init(dim):\n",
        "    W = np.random.rand(nb_classes, dim) * 1.00\n",
        "    b = np.random.rand(nb_classes, 1)\n",
        "    return W, b"
      ],
      "execution_count": 0,
      "outputs": []
    },
    {
      "metadata": {
        "id": "IMx9LZTB09TR",
        "colab_type": "code",
        "colab": {}
      },
      "cell_type": "code",
      "source": [
        "def sigmoid(z):\n",
        "    return 1 / (1 + np.exp(-z))\n"
      ],
      "execution_count": 0,
      "outputs": []
    },
    {
      "metadata": {
        "id": "sW2KKXPe1A3O",
        "colab_type": "code",
        "colab": {}
      },
      "cell_type": "code",
      "source": [
        "def forw_prop(W, b, x):\n",
        "    linear_transformation = np.dot(W, np.transpose(x)) + (b)\n",
        "    result = sigmoid(linear_transformation)\n",
        "    return result"
      ],
      "execution_count": 0,
      "outputs": []
    },
    {
      "metadata": {
        "id": "pqmT_u2H1FvZ",
        "colab_type": "code",
        "colab": {}
      },
      "cell_type": "code",
      "source": [
        "def loss_func(y_train, output, batch_size):     \n",
        "    loss = -(np.sum(np.multiply(np.transpose(y_train), np.log(output)) + np.multiply(np.transpose(1- y_train), np.log(1-output)), axis=1,keepdims=True) / batch_size)\n",
        "    return loss"
      ],
      "execution_count": 0,
      "outputs": []
    },
    {
      "metadata": {
        "id": "DV84XVcH1W-7",
        "colab_type": "code",
        "colab": {}
      },
      "cell_type": "code",
      "source": [
        "def back_prop(x_train, y_train, output, W, b, lear_rate, batch_size):\n",
        "    der_loss = np.sum((output - np.transpose(y_train)), axis=1, keepdims=True) / batch_size\n",
        "    der_sig = sigmoid(output) * (1 - sigmoid(output))\n",
        "    der_z = np.multiply(der_loss, der_sig)\n",
        "    der_W = np.dot(der_z, x_train)\n",
        "    der_b = np.sum(der_z, axis=1, keepdims=True)\n",
        "    W = W - lear_rate * der_W\n",
        "    b = b - lear_rate * der_b\n",
        "    return W, b"
      ],
      "execution_count": 0,
      "outputs": []
    },
    {
      "metadata": {
        "id": "Tz7uXJfO1bQY",
        "colab_type": "code",
        "colab": {}
      },
      "cell_type": "code",
      "source": [
        "def sgd(W, b, x_train, y_train, learning_rate, batch_size, epochs):\n",
        "    for j in range(epochs):\n",
        "        for i in range(0, x_train.shape[0], batch_size):\n",
        "            output = forw_prop(W, b, x_train[i:i + batch_size])\n",
        "            W, b = back_prop(x_train[i:i + batch_size], y_train[i:i + batch_size], output, W, b, learning_rate, batch_size)\n",
        "    return W, b"
      ],
      "execution_count": 0,
      "outputs": []
    },
    {
      "metadata": {
        "id": "izXUL6uH1fRL",
        "colab_type": "code",
        "colab": {}
      },
      "cell_type": "code",
      "source": [
        "def predict(W, b, X, Y):\n",
        "    m = Y.shape[0]\n",
        "    Y_prediction = forw_prop(W, b, X)\n",
        "    Y_prediction = Y_prediction.T\n",
        "    outputlist = []\n",
        "    for i in range(m):\n",
        "        outputlist.append(np.argmax(Y_prediction[i]))\n",
        "    count = 0\n",
        "    for i in range(m):\n",
        "        if outputlist[i] == Y[i]:\n",
        "            count += 1\n",
        "    return count / 10"
      ],
      "execution_count": 0,
      "outputs": []
    },
    {
      "metadata": {
        "id": "Ij4YUVdI1ixF",
        "colab_type": "code",
        "colab": {}
      },
      "cell_type": "code",
      "source": [
        "W, b = init(x_train.shape[1])\n",
        "W, b = sgd(W, b, x_train, y_train, learning_rate, batch_size, experiments)\n",
        "\n",
        "result = predict(W, b,y_actual_testdata)\n",
        "print(result)"
      ],
      "execution_count": 0,
      "outputs": []
    }
  ]
}