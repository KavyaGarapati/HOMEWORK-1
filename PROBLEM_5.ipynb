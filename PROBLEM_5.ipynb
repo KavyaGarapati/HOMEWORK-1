{
  "nbformat": 4,
  "nbformat_minor": 0,
  "metadata": {
    "colab": {
      "name": "PROBLEM 5.ipynb",
      "version": "0.3.2",
      "provenance": [],
      "collapsed_sections": [],
      "include_colab_link": true
    },
    "kernelspec": {
      "name": "python3",
      "display_name": "Python 3"
    }
  },
  "cells": [
    {
      "cell_type": "markdown",
      "metadata": {
        "id": "view-in-github",
        "colab_type": "text"
      },
      "source": [
        "<a href=\"https://colab.research.google.com/github/KavyaGarapati/HOMEWORK-1/blob/master/PROBLEM_5.ipynb\" target=\"_parent\"><img src=\"https://colab.research.google.com/assets/colab-badge.svg\" alt=\"Open In Colab\"/></a>"
      ]
    },
    {
      "metadata": {
        "id": "Na-UIrhMrgdj",
        "colab_type": "code",
        "colab": {}
      },
      "cell_type": "code",
      "source": [
        "import numpy as np\n",
        "import time\n",
        "from keras.datasets import mnist\n",
        "from keras.models import Sequential\n",
        "from keras.layers import Dense, Input\n",
        "from keras.optimizers import SGD\n",
        "import keras.utils as np_utils\n",
        "from sklearn.model_selection import train_test_split"
      ],
      "execution_count": 0,
      "outputs": []
    },
    {
      "metadata": {
        "id": "kw2ZbT0vroCG",
        "colab_type": "code",
        "colab": {}
      },
      "cell_type": "code",
      "source": [
        "def no_of_regions(image):\n",
        "    queue = []\n",
        "    visited_vertices = []"
      ],
      "execution_count": 0,
      "outputs": []
    },
    {
      "metadata": {
        "id": "RTBcvfFqrrkD",
        "colab_type": "code",
        "colab": {}
      },
      "cell_type": "code",
      "source": [
        "regions = 0"
      ],
      "execution_count": 0,
      "outputs": []
    },
    {
      "metadata": {
        "id": "sqvM0UAQruMJ",
        "colab_type": "code",
        "colab": {}
      },
      "cell_type": "code",
      "source": [
        "for row in range(28):\n",
        "        for col in range(28):\n",
        "\n",
        "            if (row, col) not in visited_vertices and image[row][col] < 0.5:\n",
        "                regions += 1\n",
        "                queue.append((row, col))\n",
        "                visited_vertices.append((row, col))\n",
        "\n",
        "                while len(queue) > 0:\n",
        "                    (x, y) = queue.pop()\n",
        "\n",
        "                    if (x - 1, y) not in visited_vertices and x - 1 >= 0 and image[x - 1][y] < 0.5:\n",
        "                        queue.append((x - 1, y))\n",
        "                        visited_vertices.append((x - 1, y))\n",
        "\n",
        "                    if (x + 1, y) not in visited_vertices and x + 1 < 28 and image[x + 1][y] < 0.5:\n",
        "                        queue.append((x + 1, y))\n",
        "                        visited_vertices.append((x + 1, y))\n",
        "\n",
        "                    if (x, y - 1) not in visited_vertices and y - 1 >= 0 and image[x][y - 1] < 0.5:\n",
        "                        queue.append((x, y - 1))\n",
        "                        visited_vertices.append((x, y - 1))\n",
        "\n",
        "                    if (x, y + 1) not in visited_vertices and y + 1 < 28 and image[x][y + 1] < 0.5:\n",
        "                        queue.append((x, y + 1))\n",
        "                        visited_vertices.append((x, y + 1))\n",
        "\n",
        "        return regions/3\n",
        "        "
      ],
      "execution_count": 0,
      "outputs": []
    },
    {
      "metadata": {
        "id": "jafyjypssDD8",
        "colab_type": "code",
        "colab": {}
      },
      "cell_type": "code",
      "source": [
        "(x_train, y_train), (x_test, y_test) = mnist.load_data()"
      ],
      "execution_count": 0,
      "outputs": []
    },
    {
      "metadata": {
        "id": "NUoxUDP5sHAe",
        "colab_type": "code",
        "colab": {}
      },
      "cell_type": "code",
      "source": [
        "x_train = x_train.astype('float32')\n",
        "x_test = x_test.astype('float32')"
      ],
      "execution_count": 0,
      "outputs": []
    },
    {
      "metadata": {
        "id": "sYi7i9RbsK0E",
        "colab_type": "code",
        "colab": {}
      },
      "cell_type": "code",
      "source": [
        "x_train /= 255\n",
        "x_test /= 255"
      ],
      "execution_count": 0,
      "outputs": []
    },
    {
      "metadata": {
        "id": "m1L5IRMusNc_",
        "colab_type": "code",
        "colab": {}
      },
      "cell_type": "code",
      "source": [
        "new_feature_train = np.zeros_like(y_train)\n",
        "new_feature_test = np.zeros_like(y_test)"
      ],
      "execution_count": 0,
      "outputs": []
    },
    {
      "metadata": {
        "id": "QdKukaQosP9r",
        "colab_type": "code",
        "colab": {}
      },
      "cell_type": "code",
      "source": [
        "starttime= time.time()\n",
        "\n",
        "for i in range(y_train.shape[0]):\n",
        "    new_feature_train[i] = no_of_regions(x_train[i])\n",
        "\n",
        "for i in range(y_test.shape[0]):\n",
        "    new_feature_test[i] = no_of_regions(x_test[i])\n",
        "\n",
        "endtime = time.time()\n",
        "\n",
        "print(\"Time to find the no of white regions in training and testing data : {} minutes\".format((endtime-starttime)/60))"
      ],
      "execution_count": 0,
      "outputs": []
    },
    {
      "metadata": {
        "id": "ved3tmDJsWLu",
        "colab_type": "code",
        "colab": {}
      },
      "cell_type": "code",
      "source": [
        "x_train = x_train.reshape(x_train.shape[0], x_train.shape[1]*x_train.shape[2])\n",
        "x_test = x_test.reshape(x_test.shape[0], x_test.shape[1]*x_test.shape[2])\n",
        "\n"
      ],
      "execution_count": 0,
      "outputs": []
    },
    {
      "metadata": {
        "id": "6Hzwry-iscpI",
        "colab_type": "code",
        "colab": {}
      },
      "cell_type": "code",
      "source": [
        "x_train_with_new_feature = np.append(x_train,new_feature_train,axis=1)\n",
        "x_test_with_new_feature = np.append(x_test,new_feature_test,axis=1)"
      ],
      "execution_count": 0,
      "outputs": []
    },
    {
      "metadata": {
        "id": "vX2DMvgesg2u",
        "colab_type": "code",
        "colab": {}
      },
      "cell_type": "code",
      "source": [
        "model = Sequential()\n",
        "model.add(Dense(785, activation='relu', input_shape=(785,)))\n",
        "model.add(Dense(10, activation='softmax'))"
      ],
      "execution_count": 0,
      "outputs": []
    },
    {
      "metadata": {
        "id": "vR4D_R13skg7",
        "colab_type": "code",
        "colab": {}
      },
      "cell_type": "code",
      "source": [
        "sgd = SGD(lr=0.005)\n",
        "model.compile(optimizer=sgd ,loss='categorical_crossentropy',metrics=['accuracy'])"
      ],
      "execution_count": 0,
      "outputs": []
    },
    {
      "metadata": {
        "id": "e0k4YPuJsnXg",
        "colab_type": "code",
        "colab": {}
      },
      "cell_type": "code",
      "source": [
        "history = model.fit(x_train_with_new_feature, y_train, epochs=10, batch_size=100, verbose=1, shuffle=True)\n"
      ],
      "execution_count": 0,
      "outputs": []
    },
    {
      "metadata": {
        "id": "ZiZZCIVZsrKv",
        "colab_type": "code",
        "colab": {}
      },
      "cell_type": "code",
      "source": [
        "score = model.evaluate(x_test_with_new_feature, y_test, verbose=0)"
      ],
      "execution_count": 0,
      "outputs": []
    },
    {
      "metadata": {
        "id": "l7FEh2NXsuxb",
        "colab_type": "code",
        "colab": {}
      },
      "cell_type": "code",
      "source": [
        "accuracy = 100*score[1]\n",
        "print('Test accuracy: %.4f%%' % accuracy)"
      ],
      "execution_count": 0,
      "outputs": []
    }
  ]
}